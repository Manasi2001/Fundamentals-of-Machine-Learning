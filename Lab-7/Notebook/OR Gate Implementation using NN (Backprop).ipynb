{
 "cells": [
  {
   "cell_type": "markdown",
   "metadata": {},
   "source": [
    "# LAB-7\n",
    "\n",
    "### *Using Backpropagation Algorithm to Implement OR Gate*"
   ]
  },
  {
   "cell_type": "code",
   "execution_count": 1,
   "metadata": {
    "id": "vuhF9_IXMES6"
   },
   "outputs": [],
   "source": [
    "# importing libraries\n",
    "import numpy as np"
   ]
  },
  {
   "cell_type": "code",
   "execution_count": 2,
   "metadata": {
    "id": "oRuYmFXUMXVa"
   },
   "outputs": [
    {
     "name": "stdout",
     "output_type": "stream",
     "text": [
      "[[0 0]\n",
      " [0 1]\n",
      " [1 0]\n",
      " [1 1]]\n"
     ]
    }
   ],
   "source": [
    "# defining input features\n",
    "X = np.array([[0,0],[0,1],[1,0],[1,1]])  # 4 datapoints\n",
    "print(X)"
   ]
  },
  {
   "cell_type": "code",
   "execution_count": 3,
   "metadata": {
    "id": "SegOsZF9MyTZ"
   },
   "outputs": [
    {
     "name": "stdout",
     "output_type": "stream",
     "text": [
      "[[0]\n",
      " [1]\n",
      " [1]\n",
      " [1]]\n"
     ]
    }
   ],
   "source": [
    "# defining target outputs\n",
    "Y_target = np.array([[0],[1],[1],[1]])  # 4 outputs\n",
    "print(Y_target)"
   ]
  },
  {
   "cell_type": "code",
   "execution_count": 4,
   "metadata": {
    "colab": {
     "base_uri": "https://localhost:8080/"
    },
    "id": "PiruEDa2Ny_Q",
    "outputId": "34e00a3b-9fd6-4102-bb68-92c4e3c1fe3b"
   },
   "outputs": [
    {
     "name": "stdout",
     "output_type": "stream",
     "text": [
      "[[0.1 0.2 0.3]\n",
      " [0.4 0.5 0.6]]\n",
      "[[0.7]\n",
      " [0.8]\n",
      " [0.9]]\n"
     ]
    }
   ],
   "source": [
    "# assigning random weights\n",
    "# 6 for hidden layer (with 3 neurons)\n",
    "# 3 for output layer (with 1 neuron)\n",
    "W1 = np.array([[0.1,0.2,0.3],[0.4,0.5,0.6]])\n",
    "W2 = np.array([[0.7],[0.8],[0.9]])\n",
    "print(W1)\n",
    "print(W2)\n",
    "\n",
    "# learning rate\n",
    "lr = 0.05"
   ]
  },
  {
   "cell_type": "code",
   "execution_count": 5,
   "metadata": {
    "id": "EXh6FrflPcam"
   },
   "outputs": [],
   "source": [
    "# defining activation function - Sigmoid function\n",
    "def sigmoid(x):\n",
    "    return 1/(1+np.exp(-x))"
   ]
  },
  {
   "cell_type": "code",
   "execution_count": 6,
   "metadata": {
    "id": "csmFAxGqQ4oK"
   },
   "outputs": [],
   "source": [
    "# defining derivative of activation function - derivative of the Sigmoid function\n",
    "def der_sigmoid(x):\n",
    "    return sigmoid(x)*(1-sigmoid(x))"
   ]
  },
  {
   "cell_type": "markdown",
   "metadata": {},
   "source": [
    "### Forward Propagation (first iteration)"
   ]
  },
  {
   "cell_type": "code",
   "execution_count": 7,
   "metadata": {},
   "outputs": [
    {
     "name": "stdout",
     "output_type": "stream",
     "text": [
      "Z:\n",
      " [[0.  0.  0. ]\n",
      " [0.4 0.5 0.6]\n",
      " [0.1 0.2 0.3]\n",
      " [0.5 0.7 0.9]]\n",
      "\n",
      "H:\n",
      " [[0.5        0.5        0.5       ]\n",
      " [0.59868766 0.62245933 0.64565631]\n",
      " [0.52497919 0.549834   0.57444252]\n",
      " [0.62245933 0.66818777 0.7109495 ]]\n",
      "\n",
      "U:\n",
      " [[1.2       ]\n",
      " [1.4981395 ]\n",
      " [1.32435089]\n",
      " [1.6101263 ]]\n",
      "\n",
      "Y:\n",
      " [[0.76852478]\n",
      " [0.81729683]\n",
      " [0.78990467]\n",
      " [0.83342892]]\n",
      "\n",
      "E:\n",
      " [[ 0.76852478]\n",
      " [-0.18270317]\n",
      " [-0.21009533]\n",
      " [-0.16657108]]\n"
     ]
    }
   ],
   "source": [
    "Z = np.dot(X,W1)  # pre-activation matrix for the neurons in hidden layer\n",
    "print('Z:\\n',Z)\n",
    "H = sigmoid(Z)    # post-activation matrix \n",
    "print('\\nH:\\n',H)\n",
    "U = np.dot(H,W2)  # pre-activation matrix for the neuron in output layer\n",
    "print('\\nU:\\n',U)\n",
    "Y = sigmoid(U)    # post-activation matrix\n",
    "print('\\nY:\\n',Y)\n",
    "E = Y-Y_target    # the error due to selection of random weights\n",
    "print('\\nE:\\n',E)"
   ]
  },
  {
   "cell_type": "markdown",
   "metadata": {},
   "source": [
    "### *Error is huge, so we'll have to backpropagate it and repeat the cycle till the results become accurate.*"
   ]
  },
  {
   "cell_type": "markdown",
   "metadata": {},
   "source": [
    "### The Neural Network"
   ]
  },
  {
   "cell_type": "code",
   "execution_count": 8,
   "metadata": {
    "colab": {
     "base_uri": "https://localhost:8080/"
    },
    "id": "vQwdCVjJVTgv",
    "outputId": "1f7fca58-1426-49bc-e075-369c6b6e2727"
   },
   "outputs": [
    {
     "name": "stdout",
     "output_type": "stream",
     "text": [
      "[[0.32201495]\n",
      " [0.62000475]\n",
      " [0.89078803]]\n",
      "[[0.46468764 0.67734655 0.86279697]\n",
      " [0.71839648 0.91116206 1.07828517]]\n"
     ]
    }
   ],
   "source": [
    "for epoch in range(1000):\n",
    "    # first, forward propagation will happen\n",
    "    Z = np.dot(X,W1)  \n",
    "    H = sigmoid(Z)    \n",
    "    U = np.dot(H,W2) \n",
    "    Y = sigmoid(U)    \n",
    "    E = Y-Y_target    \n",
    "    \n",
    "    # calculation of loss function (Mean Square Error loss)\n",
    "    L = 1/2*(np.power(E,2))\n",
    "    #print(output_error.sum())\n",
    "    #print(output_error)\n",
    "\n",
    "    # Backpropagation - Stage 1\n",
    "    dL_dY = Y-Y_target\n",
    "    dY_dU = Y*(1-Y)\n",
    "    dU_dW2 = H\n",
    "    #print(dL_dY)\n",
    "    #print(dY_dU)\n",
    "    #print(dU_dW2)\n",
    "\n",
    "    dL_dW2=np.dot(dU_dW2.T,dL_dY*dY_dU)\n",
    "\n",
    "    # weight updates in stage 1\n",
    "    W2 -= lr*dL_dW2\n",
    "    #print(weight_output)\n",
    "\n",
    "    # Backpropagation - Stage 2\n",
    "    dL_dY = Y-Y_target\n",
    "    dY_dU = Y*(1-Y)\n",
    "    dU_dH = W2\n",
    "    dH_dZ = H*(1-H)\n",
    "    dZ_dW1 = X \n",
    "\n",
    "    dL_dH = np.dot(dL_dY*dY_dU,dU_dH.T)\n",
    "    dL_dW1 = np.dot(dZ_dW1.T,dH_dZ*dL_dH)\n",
    "\n",
    "    # weight updates in stage 2\n",
    "    W1 -= lr*dL_dW1\n",
    "    #print(weight_hidden)\n",
    "    \n",
    "print(W2)\n",
    "print(W1)"
   ]
  },
  {
   "cell_type": "code",
   "execution_count": 9,
   "metadata": {
    "colab": {
     "base_uri": "https://localhost:8080/"
    },
    "id": "t9YX2ylgR8zx",
    "outputId": "1d08f60b-e260-4515-9dd9-840282df44d9"
   },
   "outputs": [
    {
     "name": "stdout",
     "output_type": "stream",
     "text": [
      "[0.7143088]\n"
     ]
    }
   ],
   "source": [
    "# testing on an input data point\n",
    "point = np.array([0,0])\n",
    "z = np.dot(point,W1)\n",
    "h = sigmoid(z)\n",
    "op = np.dot(h,W2)\n",
    "y_cap = sigmoid(op)\n",
    "print(y_cap)"
   ]
  }
 ],
 "metadata": {
  "accelerator": "GPU",
  "colab": {
   "name": "NN_OR_Gate_via_Backprop.ipynb",
   "provenance": []
  },
  "kernelspec": {
   "display_name": "Python 3",
   "language": "python",
   "name": "python3"
  },
  "language_info": {
   "codemirror_mode": {
    "name": "ipython",
    "version": 3
   },
   "file_extension": ".py",
   "mimetype": "text/x-python",
   "name": "python",
   "nbconvert_exporter": "python",
   "pygments_lexer": "ipython3",
   "version": "3.8.5"
  }
 },
 "nbformat": 4,
 "nbformat_minor": 1
}

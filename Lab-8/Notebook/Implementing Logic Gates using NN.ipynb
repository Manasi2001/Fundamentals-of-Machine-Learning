{
 "cells": [
  {
   "cell_type": "markdown",
   "metadata": {},
   "source": [
    "# LAB-8\n",
    "\n",
    "### *Implementing OR, AND and XOR Gates using Neural Networks*"
   ]
  },
  {
   "cell_type": "code",
   "execution_count": 50,
   "metadata": {},
   "outputs": [],
   "source": [
    "# importing libraries\n",
    "import numpy as np"
   ]
  },
  {
   "cell_type": "code",
   "execution_count": 51,
   "metadata": {},
   "outputs": [],
   "source": [
    "# defining input features\n",
    "X = np.array([[0,0],[0,1],[1,0],[1,1]])"
   ]
  },
  {
   "cell_type": "code",
   "execution_count": 52,
   "metadata": {},
   "outputs": [
    {
     "name": "stdout",
     "output_type": "stream",
     "text": [
      "Which gate do you want to implement?\n",
      "1. OR\n",
      "2. AND\n",
      "3. XOR\n",
      "\n",
      "1\n"
     ]
    }
   ],
   "source": [
    "# asking user for the name of the gate\n",
    "ch = int(input('Which gate do you want to implement?\\n1. OR\\n2. AND\\n3. XOR\\n\\n'))\n",
    "if ch == 1:\n",
    "    Y_target = np.array([[0],[1],[1],[1]])\n",
    "elif ch == 2:\n",
    "    Y_target = np.array([[0],[0],[0],[1]])\n",
    "elif ch == 3:\n",
    "    Y_target = np.array([[0],[1],[1],[0]])\n",
    "else:\n",
    "    print('Recheck your choice!')"
   ]
  },
  {
   "cell_type": "code",
   "execution_count": 53,
   "metadata": {},
   "outputs": [
    {
     "name": "stdout",
     "output_type": "stream",
     "text": [
      "[[0.2 0.3 0.4]\n",
      " [0.5 0.6 0.6]]\n",
      "\n",
      " [[0.4]\n",
      " [0.5]\n",
      " [0.2]]\n"
     ]
    }
   ],
   "source": [
    "# assigning random weights\n",
    "# 6 for hidden layer (with 3 neurons)\n",
    "# 3 for output layer (with 1 neuron)\n",
    "W1 = np.array([[0.2,0.3,0.4],[0.5,0.6,0.6]])\n",
    "W2 = np.array([[0.4],[0.5],[0.2]])\n",
    "print(W1)\n",
    "print('\\n',W2)\n",
    "\n",
    "# learning rate\n",
    "lr = 0.05"
   ]
  },
  {
   "cell_type": "code",
   "execution_count": 54,
   "metadata": {},
   "outputs": [],
   "source": [
    "# defining activation function - Sigmoid function\n",
    "def sigmoid(x):\n",
    "    return 1/(1+np.exp(-x))"
   ]
  },
  {
   "cell_type": "code",
   "execution_count": 55,
   "metadata": {},
   "outputs": [],
   "source": [
    "# defining derivative of activation function - derivative of the Sigmoid function\n",
    "def der_sigmoid(x):\n",
    "    return sigmoid(x)*(1-sigmoid(x))"
   ]
  },
  {
   "cell_type": "markdown",
   "metadata": {},
   "source": [
    "### Forward Propagation (first iteration)"
   ]
  },
  {
   "cell_type": "code",
   "execution_count": 56,
   "metadata": {},
   "outputs": [
    {
     "name": "stdout",
     "output_type": "stream",
     "text": [
      "Z:\n",
      " [[0.  0.  0. ]\n",
      " [0.5 0.6 0.6]\n",
      " [0.2 0.3 0.4]\n",
      " [0.7 0.9 1. ]]\n",
      "\n",
      "H:\n",
      " [[0.5        0.5        0.5       ]\n",
      " [0.62245933 0.64565631 0.64565631]\n",
      " [0.549834   0.57444252 0.59868766]\n",
      " [0.66818777 0.7109495  0.73105858]]\n",
      "\n",
      "U:\n",
      " [[0.55      ]\n",
      " [0.70094315]\n",
      " [0.62689239]\n",
      " [0.76896158]]\n",
      "\n",
      "Y:\n",
      " [[0.63413559]\n",
      " [0.66839685]\n",
      " [0.65178449]\n",
      " [0.68329622]]\n",
      "\n",
      "E:\n",
      " [[ 0.63413559]\n",
      " [-0.33160315]\n",
      " [-0.34821551]\n",
      " [-0.31670378]]\n"
     ]
    }
   ],
   "source": [
    "Z = np.dot(X,W1)  # pre-activation matrix for the neurons in hidden layer\n",
    "print('Z:\\n',Z)\n",
    "H = sigmoid(Z)    # post-activation matrix \n",
    "print('\\nH:\\n',H)\n",
    "U = np.dot(H,W2)  # pre-activation matrix for the neuron in output layer\n",
    "print('\\nU:\\n',U)\n",
    "Y = sigmoid(U)    # post-activation matrix\n",
    "print('\\nY:\\n',Y)\n",
    "E = Y-Y_target    # the error due to selection of random weights\n",
    "print('\\nE:\\n',E)"
   ]
  },
  {
   "cell_type": "markdown",
   "metadata": {},
   "source": [
    "### Backpropagation"
   ]
  },
  {
   "cell_type": "code",
   "execution_count": 57,
   "metadata": {},
   "outputs": [
    {
     "name": "stdout",
     "output_type": "stream",
     "text": [
      "### Updated Weights ###\n",
      "\n",
      "[[0.65655034 0.86353995 0.74275364]\n",
      " [0.90170586 1.08845947 0.9037142 ]]\n",
      "\n",
      " [[0.5312362 ]\n",
      " [0.83478758]\n",
      " [0.46520461]]\n"
     ]
    }
   ],
   "source": [
    "for epoch in range(1000):\n",
    "    # first, forward propagation will happen\n",
    "    Z = np.dot(X,W1)  \n",
    "    H = sigmoid(Z)    \n",
    "    U = np.dot(H,W2) \n",
    "    Y = sigmoid(U)    \n",
    "    E = Y-Y_target    \n",
    "    \n",
    "    # calculation of loss function (Mean Square Error loss)\n",
    "    L = 1/2*(np.power(E,2))\n",
    "    #print(output_error.sum())\n",
    "    #print(output_error)\n",
    "\n",
    "    # Backpropagation - Stage 1\n",
    "    dL_dY = Y-Y_target\n",
    "    dY_dU = Y*(1-Y)\n",
    "    dU_dW2 = H\n",
    "    #print(dL_dY)\n",
    "    #print(dY_dU)\n",
    "    #print(dU_dW2)\n",
    "\n",
    "    dL_dW2=np.dot(dU_dW2.T,dL_dY*dY_dU)\n",
    "\n",
    "    # weight updates in stage 1\n",
    "    W2 -= lr*dL_dW2\n",
    "    #print(weight_output)\n",
    "\n",
    "    # Backpropagation - Stage 2\n",
    "    dL_dY = Y-Y_target\n",
    "    dY_dU = Y*(1-Y)\n",
    "    dU_dH = W2\n",
    "    dH_dZ = H*(1-H)\n",
    "    dZ_dW1 = X \n",
    "\n",
    "    dL_dH = np.dot(dL_dY*dY_dU,dU_dH.T)\n",
    "    dL_dW1 = np.dot(dZ_dW1.T,dH_dZ*dL_dH)\n",
    "\n",
    "    # weight updates in stage 2\n",
    "    W1 -= lr*dL_dW1\n",
    "    #print(weight_hidden)\n",
    "    \n",
    "print('### Updated Weights ###\\n')\n",
    "print(W1)\n",
    "print('\\n',W2)"
   ]
  },
  {
   "cell_type": "markdown",
   "metadata": {},
   "source": [
    "### Testing"
   ]
  },
  {
   "cell_type": "code",
   "execution_count": 58,
   "metadata": {},
   "outputs": [
    {
     "name": "stdout",
     "output_type": "stream",
     "text": [
      "[0.71414763]\n"
     ]
    }
   ],
   "source": [
    "# testing on an input data point\n",
    "point = np.array([0,0])\n",
    "z = np.dot(point,W1)\n",
    "h = sigmoid(z)\n",
    "op = np.dot(h,W2)\n",
    "y_cap = sigmoid(op)\n",
    "print(y_cap)"
   ]
  },
  {
   "attachments": {
    "image-2.png": {
     "image/png": "[encoded data removed]"
    },
    "image-3.png": {
     "image/png": "[encoded data removed]"
    },
    "image-4.png": {
     "image/png": "[encoded data removed]"
    },
    "image-5.png": {
     "image/png": "[encoded data removed]"
    },
    "image-6.png": {
     "image/png": "[encoded data removed]"
    },
    "image.png": {
     "image/png": "[encoded data removed]"
    }
   },
   "cell_type": "markdown",
   "metadata": {},
   "source": [
    "### Results\n",
    "\n",
    "#### For OR Gate:\n",
    "\n",
    "W1: \n",
    "\n",
    "![image-5.png](attachment:image-5.png)\n",
    "\n",
    "W2:\n",
    "\n",
    "![image-6.png](attachment:image-6.png)\n",
    " \n",
    "#### For AND Gate:\n",
    "\n",
    "W1:\n",
    "\n",
    "![image-3.png](attachment:image-3.png)\n",
    " \n",
    "W2:\n",
    "\n",
    "![image-4.png](attachment:image-4.png)\n",
    " \n",
    "#### For XOR Gate:\n",
    "\n",
    "W1:\n",
    "\n",
    "![image.png](attachment:image.png)\n",
    "\n",
    "W2:\n",
    "\n",
    "![image-2.png](attachment:image-2.png)"
   ]
  }
 ],
 "metadata": {
  "kernelspec": {
   "display_name": "Python 3",
   "language": "python",
   "name": "python3"
  },
  "language_info": {
   "codemirror_mode": {
    "name": "ipython",
    "version": 3
   },
   "file_extension": ".py",
   "mimetype": "text/x-python",
   "name": "python",
   "nbconvert_exporter": "python",
   "pygments_lexer": "ipython3",
   "version": "3.8.5"
  }
 },
 "nbformat": 4,
 "nbformat_minor": 4
}

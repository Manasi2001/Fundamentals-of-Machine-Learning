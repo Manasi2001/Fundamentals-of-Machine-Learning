{
 "cells": [
  {
   "cell_type": "markdown",
   "metadata": {},
   "source": [
    "# LAB-5\n",
    "\n",
    "### *XOR Gate*"
   ]
  },
  {
   "cell_type": "markdown",
   "metadata": {},
   "source": [
    "<img src = 'https://www.autodesk.com/products/eagle/blog/wp-content/uploads/2017/05/XOR-Truth-Table.png'>"
   ]
  },
  {
   "cell_type": "markdown",
   "metadata": {},
   "source": [
    "### Implementation"
   ]
  },
  {
   "cell_type": "code",
   "execution_count": 1,
   "metadata": {},
   "outputs": [
    {
     "name": "stdout",
     "output_type": "stream",
     "text": [
      "Enter input A: 1\n",
      "Enter input B: 0\n",
      "Implementing XOR Gate...\n",
      "A XOR B = 1\n"
     ]
    }
   ],
   "source": [
    "A = int(input('Enter input A: '))\n",
    "B = int(input('Enter input B: '))\n",
    "print('Implementing XOR Gate...\\nA XOR B =', int(A!=B))"
   ]
  },
  {
   "cell_type": "markdown",
   "metadata": {},
   "source": [
    "### Encrypting and Decrypting an Image"
   ]
  },
  {
   "cell_type": "code",
   "execution_count": 3,
   "metadata": {},
   "outputs": [],
   "source": [
    "import cv2\n",
    "import numpy as np\n",
    "    \n",
    "img1 = cv2.imread('img1.jpg') \n",
    "img2 = cv2.imread('img2.jpg')\n",
    " \n",
    "xor_img = cv2.bitwise_xor(img2, img1, mask = None)\n",
    "cv2.imshow('Encryted Image', xor_img)\n",
    "  \n",
    "de_img = cv2.bitwise_xor(xor_img, img2, mask = None)\n",
    "cv2.imshow('Decryted Image', de_img)\n",
    "\n",
    "# de-allocating any associated memory usage \n",
    "if cv2.waitKey(0) & 0xff == 27:\n",
    "    cv2.destroyAllWindows()"
   ]
  }
 ],
 "metadata": {
  "kernelspec": {
   "display_name": "Python 3",
   "language": "python",
   "name": "python3"
  },
  "language_info": {
   "codemirror_mode": {
    "name": "ipython",
    "version": 3
   },
   "file_extension": ".py",
   "mimetype": "text/x-python",
   "name": "python",
   "nbconvert_exporter": "python",
   "pygments_lexer": "ipython3",
   "version": "3.8.5"
  }
 },
 "nbformat": 4,
 "nbformat_minor": 4
}
